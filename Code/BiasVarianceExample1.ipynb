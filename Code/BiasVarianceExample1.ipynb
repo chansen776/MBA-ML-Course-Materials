{
  "nbformat": 4,
  "nbformat_minor": 0,
  "metadata": {
    "colab": {
      "provenance": []
    },
    "kernelspec": {
      "name": "python3",
      "display_name": "Python 3"
    },
    "language_info": {
      "name": "python"
    }
  },
  "cells": [
    {
      "cell_type": "markdown",
      "source": [
        "#Illustrate Bias/Variance Tradeoff and Validation Exercise Using Financial Asset Prediction Example"
      ],
      "metadata": {
        "id": "vdYLZ_Gl52p3"
      }
    },
    {
      "cell_type": "markdown",
      "source": [
        "In this notebook, we will illustrate two concepts for predictive modeling:\n",
        "\n",
        "\n",
        "\n",
        "1.   Bias/Variance tradeoff\n",
        "2.   The role of validation exercises\n",
        "\n",
        "We will do this in a toy example where we try to predict a household's net financial assets using the household income. The data are drawn from the 1991 SIPP and have been used extensively in academic research starting from Poterba, Venti, and Wise (1994) \"401(k) Plans and Tax-Deferred savings.\" We are just using them as a simple, readily accessible set of data to illustrate predictive modeling.\n",
        "\n"
      ],
      "metadata": {
        "id": "xTsO6eut6INC"
      }
    },
    {
      "cell_type": "markdown",
      "source": [
        "# Load some python libraries\n",
        "\n",
        "We are going to do our analysis using Python. We need to make sure that libraries containing the tools we will use are loaded so we can actually make use of them.\n",
        "\n",
        "We will essentialy always use `numpy` and `pandas` (which contain a bunch of useful data manipulation and \"algebra\" tools). We will also generally use functions taken from `scikit-learn` (aka `sklearn` the leading library of basic ML algorithms) and `matplotlib` (plotting functions). `seaborn` has additional data visualization tools that we will often use.\n",
        "\n",
        "In the following code, we import `numpy`, `pandas`, a linear regression function, a basic plotting function, and a KNN regression function (which you can view just as a black-box prediction algorithm - though ask [ChatGPT](https://https://chatgpt.com/) to explain it to you.)\n",
        "\n",
        "\n",
        "\n"
      ],
      "metadata": {
        "id": "a9tB_WFX7-iV"
      }
    },
    {
      "cell_type": "code",
      "execution_count": null,
      "metadata": {
        "id": "arG3Z5NF50vy"
      },
      "outputs": [],
      "source": [
        "# Import relevant packages\n",
        "import pandas as pd\n",
        "import numpy as np\n",
        "import matplotlib.pyplot as plt\n",
        "import seaborn as sns\n",
        "from sklearn.model_selection import train_test_split\n",
        "from sklearn.linear_model import LinearRegression\n",
        "from sklearn.neighbors import KNeighborsRegressor\n"
      ]
    },
    {
      "cell_type": "markdown",
      "source": [
        "# Load, examine, and prepare the data\n",
        "\n",
        "We need to load the data. We will do this directly from a github repository for the course."
      ],
      "metadata": {
        "id": "2INYeGcc-vcS"
      }
    },
    {
      "cell_type": "code",
      "source": [
        "file = \"https://raw.githubusercontent.com/chansen776/MBA-ML-Course-Materials/main/Data/401k.csv\"\n",
        "data = pd.read_csv(file)"
      ],
      "metadata": {
        "id": "4PDIvC7T-2FS"
      },
      "execution_count": null,
      "outputs": []
    },
    {
      "cell_type": "markdown",
      "source": [
        "Let's take a look at what's in the data"
      ],
      "metadata": {
        "id": "i89kv_LsB1qK"
      }
    },
    {
      "cell_type": "code",
      "source": [
        "data.describe()"
      ],
      "metadata": {
        "id": "Jqg3k0XLB59Y"
      },
      "execution_count": null,
      "outputs": []
    },
    {
      "cell_type": "code",
      "source": [
        "data.columns"
      ],
      "metadata": {
        "id": "0Dzz3fCeDpvk"
      },
      "execution_count": null,
      "outputs": []
    },
    {
      "cell_type": "markdown",
      "source": [
        "There are a lot of variables here. For our exercise, we're only going to use two of them (`inc` = income and `net_tfa` = net total financial assets). Let's look at those two variables."
      ],
      "metadata": {
        "id": "BT2jFxX_CJRK"
      }
    },
    {
      "cell_type": "code",
      "source": [
        "data[['inc','net_tfa']].describe()"
      ],
      "metadata": {
        "id": "YYaIA38sCI_S"
      },
      "execution_count": null,
      "outputs": []
    },
    {
      "cell_type": "markdown",
      "source": [
        "We have 9915 observations in the data. For our exercise, we're going to subset these into 6000 \"training\" observations and 3915 \"validation\" observations. (More on this later.) We're going to focus initially on the 6000 training observations."
      ],
      "metadata": {
        "id": "rOxyqut_C6zZ"
      }
    },
    {
      "cell_type": "code",
      "source": [
        "# Splitting the data into one subset of train_size = 6000 observations\n",
        "# with the other subset containing the remaining observations.\n",
        "\n",
        "# We are splitting at random and want results to replicable, so we set the\n",
        "# state of the random number generator. One should generally do this. Of course,\n",
        "# you don't want your results to depend on the specific arbitrary set state, so\n",
        "# it's a good idea to try a few out and make sure results aren't highly sensitive\n",
        "\n",
        "train, test = train_test_split(data, train_size=6000, random_state=7224)\n"
      ],
      "metadata": {
        "id": "f_GI3S32C6Mt"
      },
      "execution_count": null,
      "outputs": []
    },
    {
      "cell_type": "markdown",
      "source": [
        "Finally, let's look at a scatter plot of the data we are going to use to build our model."
      ],
      "metadata": {
        "id": "4SVyp_h0GXmc"
      }
    },
    {
      "cell_type": "code",
      "source": [
        "plot_net_tfa = sns.scatterplot(x='inc', y='net_tfa', data=train, alpha = 0.5)\n",
        "plot_net_tfa.set(xlabel='Income', ylabel='Net Financial Assets')\n",
        "plt.show()"
      ],
      "metadata": {
        "id": "BK2wiJU7Gc3Y"
      },
      "execution_count": null,
      "outputs": []
    },
    {
      "cell_type": "markdown",
      "source": [
        "# Let's fit some candidate predictive models\n",
        "\n",
        "1. Sample mean (baseline)\n",
        "2. Linear regression\n",
        "3. KNN with 30 neighbors\n",
        "4. KNN with 1 neighbor"
      ],
      "metadata": {
        "id": "y_KxLk9kL-WX"
      }
    },
    {
      "cell_type": "code",
      "source": [
        "# Sample mean as prediction rule\n",
        "\n",
        "ytrmean = np.mean(train['net_tfa'])\n",
        "print('Sample mean of net financial assets: {m:=.2f}'.format(m=ytrmean))\n",
        "\n",
        "# Mean squared error\n",
        "mse0 = np.mean((train['net_tfa'] - ytrmean)**2)\n",
        "print('MSE of sample mean: {m:=.2f}'.format(m=mse0))\n",
        "\n",
        "# Root mean squared error\n",
        "rmse0 = np.sqrt(mse0)\n",
        "print('RMSE of sample mean: {m:=.2f}'.format(m=rmse0))\n",
        "\n",
        "# Mean absolute error\n",
        "mae0 = np.mean(np.abs(train['net_tfa'] - ytrmean))\n",
        "print('MAE of sample mean: {m:=.2f}'.format(m=mae0))\n",
        "\n",
        "# Scatter plot with mean line drawn on\n",
        "plot_net_tfa = sns.scatterplot(x='inc', y='net_tfa', data=train, alpha = 0.5)\n",
        "plot_net_tfa.set(xlabel='Income', ylabel='Net Financial Assets')\n",
        "plt.axhline(y=ytrmean, color = 'red')\n",
        "plt.show()\n"
      ],
      "metadata": {
        "id": "ZYZe4Y2hMOi2"
      },
      "execution_count": null,
      "outputs": []
    },
    {
      "cell_type": "markdown",
      "source": [
        "Let's see how linear regression does. Recall that linear regression with one variable is just fitting a prediction rule\n",
        "\n",
        "$$\\widehat{\\texttt{net_tfa}} = b_0 + b_1 \\texttt{income}$$\n",
        "\n",
        "Despite it's simplicity, linear regression is an ML tool and is often very useful."
      ],
      "metadata": {
        "id": "549DbyrgQ7Oi"
      }
    },
    {
      "cell_type": "code",
      "source": [
        "# Linear regression as prediction rule\n",
        "\n",
        "# Fit linear model using training data\n",
        "# Define the model\n",
        "lm_nettfa = LinearRegression()\n",
        "\n",
        "# Fit the model on the training data\n",
        "lm_nettfa.fit(train[['inc']], train['net_tfa'])\n",
        "\n",
        "# Predict on the training data\n",
        "lm_yhat = lm_nettfa.predict(train[['inc']])\n",
        "\n",
        "# Mean squared error\n",
        "mselm = np.mean((train['net_tfa'] - lm_yhat)**2)\n",
        "print('MSE of linear model: {m:=.2f}'.format(m=mselm))\n",
        "\n",
        "# Root mean squared error\n",
        "rmselm = np.sqrt(mselm)\n",
        "print('RMSE of linear model: {m:=.2f}'.format(m=rmselm))\n",
        "\n",
        "# Mean absolute error\n",
        "maelm = np.mean(np.abs(train['net_tfa'] - lm_yhat))\n",
        "print('MAE of linear model: {m:=.2f}'.format(m=maelm))\n",
        "\n",
        "# R^2 relative to baseline\n",
        "r2lm = 1 - (mselm/mse0)\n",
        "print('R^2 of linear model: {m:=.3f}'.format(m=r2lm))\n",
        "\n",
        "# Scatter plot with linear regression model drawn on\n",
        "plot_net_tfa = sns.regplot(x='inc', y='net_tfa', data=train,\n",
        "                           scatter_kws = {'alpha': 0.25},\n",
        "                           line_kws = {'color': 'red'}, ci = None)\n",
        "plot_net_tfa.set(xlabel='Income', ylabel='Net Financial Assets')\n",
        "plt.show()"
      ],
      "metadata": {
        "id": "hS_q5FnQRbne"
      },
      "execution_count": null,
      "outputs": []
    },
    {
      "cell_type": "markdown",
      "source": [
        "Let's try KNN with 30 neighbors"
      ],
      "metadata": {
        "id": "y_xDaNCrW6qu"
      }
    },
    {
      "cell_type": "code",
      "source": [
        "# KNN regression as prediction rule\n",
        "\n",
        "# Define the model\n",
        "knn30_nettfa = KNeighborsRegressor(n_neighbors=30)\n",
        "\n",
        "# Fit the model on the training data\n",
        "knn30_nettfa.fit(train[['inc']], train['net_tfa'])\n",
        "\n",
        "# Predict on the training data\n",
        "knn30_yhat = knn30_nettfa.predict(train[['inc']])\n",
        "\n",
        "# Create data frame with KNN fits for plotting\n",
        "knn_plot = pd.DataFrame({'net_tfa': train['net_tfa'], 'inc': train['inc'],\n",
        "                         'fits': knn30_yhat})\n",
        "\n",
        "# Mean squared error\n",
        "mseknn30 = np.mean((train['net_tfa'] - knn30_yhat)**2)\n",
        "print('MSE of with 30 neighbors: {m:=.2f}'.format(m=mseknn30))\n",
        "\n",
        "# Root mean squared error\n",
        "rmseknn30 = np.sqrt(mseknn30)\n",
        "print('RMSE of with 30 neighbors: {m:=.2f}'.format(m=rmseknn30))\n",
        "\n",
        "# Mean absolute error\n",
        "maeknn30 = np.mean(np.abs(train['net_tfa'] - knn30_yhat))\n",
        "print('MAE of with 30 neighbors: {m:=.2f}'.format(m=maeknn30))\n",
        "\n",
        "# R^2 relative to baseline\n",
        "r2knn30 = 1 - (mseknn30/mse0)\n",
        "print('R^2 of KNN with 30 neighbors: {m:=.3f}'.format(m=r2knn30))\n",
        "\n",
        "# Scatter plot with KNN fit drawn on\n",
        "plot_knn_net_tfa = sns.scatterplot(x='inc', y='net_tfa', data=train,\n",
        "                                   alpha = 0.5)\n",
        "plot_knn_net_tfa.set(xlabel='Income', ylabel='Net Financial Assets')\n",
        "sns.lineplot(x='inc', y='fits', data=knn_plot, color='red')  # k-NN fit line\n"
      ],
      "metadata": {
        "id": "2KzPcDTwW6Hb"
      },
      "execution_count": null,
      "outputs": []
    },
    {
      "cell_type": "markdown",
      "source": [
        "As our final example, let's look at KNN with 1 neighbor."
      ],
      "metadata": {
        "id": "8nlWJuAuaeON"
      }
    },
    {
      "cell_type": "code",
      "source": [
        "# Define the model\n",
        "knn1_nettfa = KNeighborsRegressor(n_neighbors=1)\n",
        "\n",
        "# Fit the model on the training data\n",
        "knn1_nettfa.fit(train[['inc']], train['net_tfa'])\n",
        "\n",
        "# Predict on the training data\n",
        "knn1_yhat = knn1_nettfa.predict(train[['inc']])\n",
        "\n",
        "# Create data frame with KNN fits for plotting\n",
        "knn_plot = pd.DataFrame({'net_tfa': train['net_tfa'], 'inc': train['inc'],\n",
        "                         'fits': knn1_yhat})\n",
        "\n",
        "# Mean squared error\n",
        "mseknn1 = np.mean((train['net_tfa'] - knn1_yhat)**2)\n",
        "print('MSE of with 1 neighbors: {m:=.2f}'.format(m=mseknn1))\n",
        "\n",
        "# Root mean squared error\n",
        "rmseknn1 = np.sqrt(mseknn1)\n",
        "print('RMSE of with 1 neighbors: {m:=.2f}'.format(m=rmseknn1))\n",
        "\n",
        "# Mean absolute error\n",
        "maeknn1 = np.mean(np.abs(train['net_tfa'] - knn1_yhat))\n",
        "print('MAE of with 1 neighbors: {m:=.2f}'.format(m=maeknn1))\n",
        "\n",
        "# R^2 relative to baseline\n",
        "r2knn1 = 1 - (mseknn1/mse0)\n",
        "print('R^2 of KNN with 1 neighbors: {m:=.3f}'.format(m=r2knn1))\n",
        "\n",
        "# Scatter plot with KNN fit drawn on\n",
        "plot_knn_net_tfa = sns.scatterplot(x='inc', y='net_tfa', data=train,\n",
        "                                   alpha = 0.5)\n",
        "plot_knn_net_tfa.set(xlabel='Income', ylabel='Net Financial Assets')\n",
        "sns.lineplot(x='inc', y='fits', data=knn_plot, color='red')  # k-NN fit line"
      ],
      "metadata": {
        "id": "YdCYvS5WahWK"
      },
      "execution_count": null,
      "outputs": []
    },
    {
      "cell_type": "markdown",
      "source": [
        "# Summary\n",
        "\n",
        "As we allow the prediction rule to become more \"complex,\" we capture the data used to learn the prediction rule better.\n",
        "\n",
        "With a continuous input, we can find lots of rules that memorize the data. That is, perfectly predict each outcome and have 0 loss **in the sample that was used to learn the prediction rule!**\n",
        "\n",
        "# Question:\n",
        "\n",
        "How do we decide whether the rule we have learned generalizes to predict **new** observations?\n",
        "\n",
        "\n",
        "\n",
        "\n"
      ],
      "metadata": {
        "id": "2_CiY7SzdOud"
      }
    }
  ]
}
